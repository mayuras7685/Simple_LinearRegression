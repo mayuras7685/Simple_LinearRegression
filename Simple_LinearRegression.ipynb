{
  "nbformat": 4,
  "nbformat_minor": 0,
  "metadata": {
    "colab": {
      "name": "Simple_LinearRegression.ipynb",
      "provenance": [],
      "collapsed_sections": [],
      "include_colab_link": true
    },
    "kernelspec": {
      "name": "python3",
      "display_name": "Python 3"
    },
    "language_info": {
      "name": "python"
    }
  },
  "cells": [
    {
      "cell_type": "markdown",
      "metadata": {
        "id": "view-in-github",
        "colab_type": "text"
      },
      "source": [
        "<a href=\"https://colab.research.google.com/github/mayuras7685/Simple_LinearRegression/blob/main/Simple_LinearRegression.ipynb\" target=\"_parent\"><img src=\"https://colab.research.google.com/assets/colab-badge.svg\" alt=\"Open In Colab\"/></a>"
      ]
    },
    {
      "cell_type": "code",
      "execution_count": null,
      "metadata": {
        "id": "goCi7dGEgme2"
      },
      "outputs": [],
      "source": [
        "#import some required library \n",
        "import matplotlib.pyplot as plt\n",
        "import numpy as np\n",
        "import pandas as pd\n",
        "from sklearn.model_selection import train_test_split\n",
        "from sklearn.linear_model import LinearRegression"
      ]
    },
    {
      "cell_type": "code",
      "source": [
        "#add data is dataframe\n",
        "data = pd.read_csv(\"/content/global-plastics-production.csv\")\n",
        "#here we use global-plastic-waste-production data set"
      ],
      "metadata": {
        "id": "lH4V4-UZgsqr"
      },
      "execution_count": null,
      "outputs": []
    },
    {
      "cell_type": "code",
      "source": [
        "#define x and y \n",
        "x = data.Year.to_numpy()\n",
        "y = data.Waste.to_numpy()"
      ],
      "metadata": {
        "id": "ZxXcXWCegxxL"
      },
      "execution_count": null,
      "outputs": []
    },
    {
      "cell_type": "code",
      "source": [
        "#scatter plot of data given by us\n",
        "plt.scatter(x,y)"
      ],
      "metadata": {
        "colab": {
          "base_uri": "https://localhost:8080/",
          "height": 293
        },
        "id": "QiZSHC1phTHK",
        "outputId": "8a8b550d-1f4f-4118-bb03-a004b1002924"
      },
      "execution_count": null,
      "outputs": [
        {
          "output_type": "execute_result",
          "data": {
            "text/plain": [
              "<matplotlib.collections.PathCollection at 0x7f87b211fd10>"
            ]
          },
          "metadata": {},
          "execution_count": 7
        },
        {
          "output_type": "display_data",
          "data": {
            "image/png": "[encoded data removed]",
            "text/plain": [
              "<Figure size 432x288 with 1 Axes>"
            ]
          },
          "metadata": {
            "needs_background": "light"
          }
        }
      ]
    },
    {
      "cell_type": "code",
      "source": [
        "#shape the dataframe\n",
        "x = x.reshape(-1,1)\n",
        "y = y.reshape(-1,1)"
      ],
      "metadata": {
        "id": "Us--rjm2iM4S"
      },
      "execution_count": null,
      "outputs": []
    },
    {
      "cell_type": "code",
      "source": [
        "#plot predicated line\n",
        "import seaborn as sns\n",
        "sns.regplot(x=\"Year\",y=\"Waste\",data = data);"
      ],
      "metadata": {
        "id": "P-QXJi4ufUif"
      },
      "execution_count": null,
      "outputs": []
    },
    {
      "cell_type": "code",
      "source": [
        "#load the model\n",
        "lr = LinearRegression()\n",
        "model = lr.fit(x,y)"
      ],
      "metadata": {
        "id": "Qx8qecCrhYRT"
      },
      "execution_count": null,
      "outputs": []
    },
    {
      "cell_type": "code",
      "source": [
        "#predict\n",
        "prediction = model.predict([[2021]])\n",
        "prediction[0][0]"
      ],
      "metadata": {
        "colab": {
          "base_uri": "https://localhost:8080/"
        },
        "id": "b9Q1i2xFiO3C",
        "outputId": "88708bea-fa52-4432-9c33-cba7fa918112"
      },
      "execution_count": null,
      "outputs": [
        {
          "output_type": "execute_result",
          "data": {
            "text/plain": [
              "333324218.07048607"
            ]
          },
          "metadata": {},
          "execution_count": 29
        }
      ]
    },
    {
      "cell_type": "code",
      "source": [
        "#download Linear regression model\n",
        "import joblib\n",
        "\n",
        "model_file = open(\"linear_regression_water.pkl\",\"wb\")\n",
        "joblib.dump(lr,model_file)\n",
        "model_file.close()"
      ],
      "metadata": {
        "id": "JdR76Nyigifc"
      },
      "execution_count": null,
      "outputs": []
    }
  ]
}